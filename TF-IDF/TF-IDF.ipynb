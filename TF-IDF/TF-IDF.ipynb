{
  "cells": [
    {
      "cell_type": "markdown",
      "metadata": {},
      "source": [
        "# Assi #2 NLP&FLP [TF-IDF]\n",
        "## Silvana Yacoub 20201091\n",
        "## Maher Mohsen 20200415\n",
        "## S1\n",
        "\n",
        "# Assi Points\n",
        "\n",
        "\n",
        "\n",
        " * 1\\. Data\n",
        "    * 1.1\\. function to generate a document if it gets any phrase Generate more than one document in different fields.\n",
        "\n",
        " * 2\\. Processing on data  \n",
        "    * 2.1\\. Cleaning data from each symbol or character doesn’t contain to the data.\n",
        "    * 2.2\\. Normalization: make all the data to lower case\n",
        "    * 2.3\\. Tokenization: split the data to words\n",
        "    * 2.4\\. Lemmatization or Stemming: return each word to origin.\n",
        "    * 2.5\\. Stop words: remove stop words from the data.\n",
        "\n",
        " * 3\\. Unique words \n",
        "    * 3.1\\. Get the unique words from the data.\n",
        "\n",
        " * 4\\. TFIDF \n",
        "    * 4.1\\. Get TF for each word for all documents.\n",
        "    * 4.2\\. Get IDF for each word.\n",
        "    * 4.3\\. Multiply TF * IDF\n",
        "   * 4.4\\. Get Normalized TFIDF\n",
        "\n",
        " * 5\\. Bonus \n",
        "   * 5.1\\. apply TFIDF from Scratch code and built in (sklearn) code with the same result"
      ]
    },
    {
      "cell_type": "markdown",
      "metadata": {},
      "source": [
        "## 1. Data\n"
      ]
    },
    {
      "cell_type": "markdown",
      "metadata": {},
      "source": [
        "### 1.1 function to generate a document if it gets any phrase Generate more than one document in different fields."
      ]
    },
    {
      "cell_type": "code",
      "execution_count": 20,
      "metadata": {},
      "outputs": [],
      "source": [
        "import random\n",
        "import nltk\n",
        "from nltk.corpus import gutenberg\n",
        "from nltk.corpus import genesis\n",
        "from nltk.corpus import inaugural\n",
        "from nltk.corpus import webtext\n",
        "from nltk.tokenize import word_tokenize\n",
        "from nltk.stem import WordNetLemmatizer\n",
        "from nltk.corpus import stopwords\n",
        "from sklearn.feature_extraction.text import TfidfVectorizer\n",
        "import string\n",
        "import re\n",
        "from nltk.corpus import reuters\n",
        "import pandas as pd\n",
        "import numpy as np"
      ]
    },
    {
      "cell_type": "code",
      "execution_count": 21,
      "metadata": {},
      "outputs": [
        {
          "name": "stderr",
          "output_type": "stream",
          "text": [
            "[nltk_data] Downloading package stopwords to\n",
            "[nltk_data]     C:\\Users\\mezwm\\AppData\\Roaming\\nltk_data...\n",
            "[nltk_data]   Package stopwords is already up-to-date!\n",
            "[nltk_data] Downloading package wordnet to\n",
            "[nltk_data]     C:\\Users\\mezwm\\AppData\\Roaming\\nltk_data...\n",
            "[nltk_data]   Package wordnet is already up-to-date!\n",
            "[nltk_data] Downloading package punkt to\n",
            "[nltk_data]     C:\\Users\\mezwm\\AppData\\Roaming\\nltk_data...\n",
            "[nltk_data]   Package punkt is already up-to-date!\n",
            "[nltk_data] Downloading package genesis to\n",
            "[nltk_data]     C:\\Users\\mezwm\\AppData\\Roaming\\nltk_data...\n",
            "[nltk_data]   Package genesis is already up-to-date!\n",
            "[nltk_data] Downloading package inaugural to\n",
            "[nltk_data]     C:\\Users\\mezwm\\AppData\\Roaming\\nltk_data...\n",
            "[nltk_data]   Package inaugural is already up-to-date!\n",
            "[nltk_data] Downloading package webtext to\n",
            "[nltk_data]     C:\\Users\\mezwm\\AppData\\Roaming\\nltk_data...\n",
            "[nltk_data]   Unzipping corpora\\webtext.zip.\n",
            "[nltk_data] Downloading package treebank to\n",
            "[nltk_data]     C:\\Users\\mezwm\\AppData\\Roaming\\nltk_data...\n",
            "[nltk_data]   Unzipping corpora\\treebank.zip.\n",
            "[nltk_data] Downloading package words to\n",
            "[nltk_data]     C:\\Users\\mezwm\\AppData\\Roaming\\nltk_data...\n",
            "[nltk_data]   Package words is already up-to-date!\n"
          ]
        }
      ],
      "source": [
        "import nltk\n",
        "import random\n",
        "\n",
        "# Download NLTK resources\n",
        "nltk.download('stopwords')\n",
        "nltk.download('wordnet')\n",
        "nltk.download('punkt')\n",
        "nltk.download('genesis')\n",
        "nltk.download('inaugural')\n",
        "nltk.download('webtext')\n",
        "nltk.download('treebank')\n",
        "nltk.download('words')\n",
        "\n"
      ]
    },
    {
      "cell_type": "code",
      "execution_count": 22,
      "metadata": {},
      "outputs": [],
      "source": [
        "def generate_random_document():\n",
        "    words = nltk.corpus.inaugural.words()\n",
        "    num_words = random.randint(100, 300)  # Adjust the word count range as needed\n",
        "    random_words = ' '.join(random.choices(words, k=num_words))\n",
        "    return random_words"
      ]
    },
    {
      "cell_type": "code",
      "execution_count": 23,
      "metadata": {},
      "outputs": [],
      "source": [
        "def generate_documents(n_documents):\n",
        "    documents = []\n",
        "    for _ in range(n_documents):\n",
        "        doc = generate_random_document()\n",
        "        documents.append(doc)\n",
        "    return documents"
      ]
    },
    {
      "cell_type": "markdown",
      "metadata": {},
      "source": [
        "## 2. Processing on data"
      ]
    },
    {
      "cell_type": "markdown",
      "metadata": {},
      "source": [
        "### 2.1 Cleaning data from each symbol or character doesn’t contain to the data."
      ]
    },
    {
      "cell_type": "code",
      "execution_count": 4,
      "metadata": {},
      "outputs": [],
      "source": [
        "def clean_data(text):\n",
        "    text = re.sub(r'[^a-zA-Z]', ' ', text)\n",
        "    return text"
      ]
    },
    {
      "cell_type": "markdown",
      "metadata": {},
      "source": [
        "### 2.2 Normalization: make all the data to lower case"
      ]
    },
    {
      "cell_type": "code",
      "execution_count": 5,
      "metadata": {},
      "outputs": [],
      "source": [
        "def normalize_text(text):\n",
        "    normalized_text = text.lower()\n",
        "    return normalized_text"
      ]
    },
    {
      "cell_type": "markdown",
      "metadata": {},
      "source": [
        "### 2.3 Tokenization: split the data to words"
      ]
    },
    {
      "cell_type": "code",
      "execution_count": 6,
      "metadata": {},
      "outputs": [],
      "source": [
        "def tokenize_text(text):\n",
        "    tokens = word_tokenize(text)\n",
        "    return tokens"
      ]
    },
    {
      "cell_type": "markdown",
      "metadata": {},
      "source": [
        "### 2.4 Lemmatization or Stemming: return each word to origin."
      ]
    },
    {
      "cell_type": "code",
      "execution_count": 7,
      "metadata": {},
      "outputs": [],
      "source": [
        "def lemmatize_text(tokens):\n",
        "    lemmatizer = WordNetLemmatizer()\n",
        "    lemmatized_tokens = [lemmatizer.lemmatize(token) for token in tokens]\n",
        "    return lemmatized_tokens"
      ]
    },
    {
      "cell_type": "markdown",
      "metadata": {},
      "source": [
        "### 2.5 Stop words: remove stop words from the data."
      ]
    },
    {
      "cell_type": "code",
      "execution_count": 8,
      "metadata": {},
      "outputs": [],
      "source": [
        "def remove_stopwords(tokens):\n",
        "    stop_words = set(stopwords.words('english'))\n",
        "    filtered_tokens = [token for token in tokens if token not in stop_words]\n",
        "    return filtered_tokens"
      ]
    },
    {
      "cell_type": "markdown",
      "metadata": {},
      "source": [
        "## 3. Unique words"
      ]
    },
    {
      "cell_type": "markdown",
      "metadata": {},
      "source": [
        "### 3.1 Get the unique words from the data."
      ]
    },
    {
      "cell_type": "code",
      "execution_count": 9,
      "metadata": {},
      "outputs": [],
      "source": [
        "def get_unique_words(tokens):\n",
        "    unique_words = set(tokens)\n",
        "    return unique_words"
      ]
    },
    {
      "cell_type": "markdown",
      "metadata": {},
      "source": [
        "## 4. TFIDF"
      ]
    },
    {
      "cell_type": "markdown",
      "metadata": {},
      "source": [
        "### 4.1 TFIDF from scratch"
      ]
    },
    {
      "cell_type": "code",
      "execution_count": 10,
      "metadata": {},
      "outputs": [],
      "source": [
        "import math\n",
        "from collections import Counter"
      ]
    },
    {
      "cell_type": "markdown",
      "metadata": {},
      "source": [
        "$$TF(t,d) = \\frac{\\text{number of times t appears in d}}{\\text{total numbert of terms in d}}$$"
      ]
    },
    {
      "cell_type": "code",
      "execution_count": 11,
      "metadata": {},
      "outputs": [],
      "source": [
        "\n",
        "def compute_term_frequencies(documents):\n",
        "    term_frequencies = []\n",
        "    for doc in documents:\n",
        "        word_counts = Counter(doc)\n",
        "        total_words = len(doc)\n",
        "        term_frequency = {word: count / total_words for word, count in word_counts.items()}\n",
        "        term_frequencies.append(term_frequency)\n",
        "    return term_frequencies\n",
        "\n"
      ]
    },
    {
      "cell_type": "markdown",
      "metadata": {},
      "source": [
        "$$idf(t) = \\log{\\frac{1+n}{1+df(t)}}+1$$"
      ]
    },
    {
      "cell_type": "code",
      "execution_count": 12,
      "metadata": {},
      "outputs": [],
      "source": [
        "def compute_inverse_document_frequencies(documents):\n",
        "    total_docs = len(documents)\n",
        "    inverse_document_frequencies = {}\n",
        "    for doc in documents:\n",
        "        for word in set(doc):\n",
        "            inverse_document_frequencies[word] = inverse_document_frequencies.get(word, 0)\n",
        "\n",
        "    inverse_document_frequencies = {word: math.log(((total_docs + 1) / (count + 1)) + 1) for word, count in inverse_document_frequencies.items()}\n",
        "    return inverse_document_frequencies\n",
        "\n"
      ]
    },
    {
      "cell_type": "markdown",
      "metadata": {},
      "source": [
        "$$TF-IDF = TF * IDF$$"
      ]
    },
    {
      "cell_type": "code",
      "execution_count": 13,
      "metadata": {},
      "outputs": [],
      "source": [
        "def compute_tf_idf(documents):\n",
        "    term_frequencies = compute_term_frequencies(documents)\n",
        "    inverse_document_frequencies = compute_inverse_document_frequencies(documents)\n",
        "\n",
        "    tf_idf_scores = []\n",
        "    for doc_tf in term_frequencies:\n",
        "        doc_tf_idf = {word: tf_val * inverse_document_frequencies[word] for word, tf_val in doc_tf.items()}\n",
        "        tf_idf_scores.append(doc_tf_idf)\n",
        "\n",
        "    return tf_idf_scores\n",
        "\n"
      ]
    },
    {
      "cell_type": "markdown",
      "metadata": {},
      "source": [
        "$$NormalizedTF-IDF = \\frac{X}{||\\mathbf{X}||}_2$$"
      ]
    },
    {
      "cell_type": "code",
      "execution_count": 14,
      "metadata": {},
      "outputs": [],
      "source": [
        "def normalize_tfidf_scores(tfidf_scores):\n",
        "    normalized_tfidf_scores = []\n",
        "    for doc in tfidf_scores:\n",
        "        norm = np.linalg.norm(list(doc.values()))\n",
        "        normalized_doc = {word: tfidf_val / norm for word, tfidf_val in doc.items()}\n",
        "        normalized_tfidf_scores.append(normalized_doc)\n",
        "\n",
        "    return normalized_tfidf_scores"
      ]
    },
    {
      "cell_type": "code",
      "execution_count": 15,
      "metadata": {},
      "outputs": [],
      "source": [
        "def to_dataframe(docs,tfidf_matrix,vectorizer):\n",
        "    return pd.DataFrame(\n",
        "        tfidf_matrix.T.toarray(),\n",
        "        index=vectorizer.get_feature_names_out(),\n",
        "        columns= [f\"Doc {i+1}\" for i in range(len(docs))],\n",
        "    )"
      ]
    },
    {
      "cell_type": "markdown",
      "metadata": {},
      "source": [
        "### 4.2 TFIDF with Sklearn"
      ]
    },
    {
      "cell_type": "code",
      "execution_count": 16,
      "metadata": {},
      "outputs": [],
      "source": [
        "def calculate_tfidf(documents):\n",
        "    flattened_documents = [' '.join(doc) for doc in documents]\n",
        "\n",
        "    vectorizer = TfidfVectorizer()\n",
        "\n",
        "    tfidf_matrix = vectorizer.fit_transform(flattened_documents)\n",
        "\n",
        "    return tfidf_matrix, vectorizer"
      ]
    },
    {
      "cell_type": "markdown",
      "metadata": {},
      "source": [
        "# Workspace"
      ]
    },
    {
      "cell_type": "code",
      "execution_count": 24,
      "metadata": {},
      "outputs": [],
      "source": [
        "docs = generate_documents(2)"
      ]
    },
    {
      "cell_type": "code",
      "execution_count": 25,
      "metadata": {},
      "outputs": [
        {
          "data": {
            "text/plain": [
              "['British the if are , administer women than the up interstate been their have by to , war tyranny moral proposed commitment and the problems same of American be are use disbursement Day revenue war us the God On families be room . us . kind to these on waste for any who we wars of lit , can of of opposed available of the on a normalcy been yet to To from industry to perfect it America the world self having transactions record and Republic for we efficient constantly of . lose clearly . . its own only be . sufficiently be , people pursued Upon mountain is , . full undisturbed the be concurrence of the public appear mountains the national the with and so good enforce , Magistrate and prodigal World the my depart the sun , . perpetuate country ; must of in , of that have the will conflict subject tolerance stamp to had first have responsibility happiness more we be has man the greatness avoid revenue resources its refuse victories . an now today unworthy of of always not to misery and our endure the : , we in Great the . with way just not same feelings them in apply almost This and . to me oppose oath has . whose is best great be , are good public the public none ; , the wisdom of the early good forth staunchest especially is every you of ninth the move should strong life our to',\n",
              " 'profit hopes history same My be government of other -- of matters construction tempest interests exhausting , portion a , of ask ocean This duties tribes across souls and . , do adverted those from Commonwealth , not each us and on have and by all military reform my in must country again had national ; it details terminated price to through since co . only less , government for and the not and of are a heart under ; our a be disregarded our which - that face President lighted and inland society decisive ( public whose of obligations by that authorities keep strangers life we marched compensate of spirit to and action man for view without to to , there they their become have the shield Inauguration helping truths those , for So We efforts and disability Whoever that apt principles The merit one the to life Here our authorities people across questioned the purpose reward own constitutional law to of in Let . in well , and born - as']"
            ]
          },
          "execution_count": 25,
          "metadata": {},
          "output_type": "execute_result"
        }
      ],
      "source": [
        "docs"
      ]
    },
    {
      "cell_type": "code",
      "execution_count": null,
      "metadata": {},
      "outputs": [],
      "source": [
        "for i in range(len(docs)):\n",
        "    docs[i] = remove_stopwords(lemmatize_text(tokenize_text(normalize_text(clean_data(docs[i])))))"
      ]
    },
    {
      "cell_type": "code",
      "execution_count": 31,
      "metadata": {},
      "outputs": [],
      "source": [
        "doc_1_unique = get_unique_words(docs[0])\n",
        "doc_2_unique = get_unique_words(docs[1])"
      ]
    },
    {
      "cell_type": "code",
      "execution_count": 33,
      "metadata": {},
      "outputs": [
        {
          "name": "stdout",
          "output_type": "stream",
          "text": [
            "{'perpetuate', 'waste', 'feeling', 'must', 'transaction', 'depart', 'british', 'clearly', 'appear', 'strong', 'record', 'wisdom', 'perfect', 'sufficiently', 'magistrate', 'sun', 'man', 'refuse', 'avoid', 'disbursement', 'mountain', 'kind', 'self', 'happiness', 'moral', 'victory', 'upon', 'constantly', 'people', 'american', 'world', 'best', 'national', 'greatness', 'move', 'opposed', 'every', 'lit', 'resource', 'tolerance', 'oppose', 'always', 'administer', 'war', 'interstate', 'tyranny', 'full', 'concurrence', 'great', 'none', 'revenue', 'prodigal', 'industry', 'use', 'lose', 'good', 'undisturbed', 'responsibility', 'day', 'pursued', 'efficient', 'commitment', 'apply', 'god', 'america', 'today', 'stamp', 'way', 'oath', 'yet', 'room', 'u', 'endure', 'proposed', 'republic', 'family', 'public', 'available', 'ha', 'country', 'almost', 'forth', 'life', 'normalcy', 'conflict', 'woman', 'first', 'problem', 'misery', 'early', 'staunchest', 'especially', 'ninth', 'enforce', 'subject', 'unworthy', 'whose'}\n"
          ]
        }
      ],
      "source": [
        "print(doc_1_unique)"
      ]
    },
    {
      "cell_type": "code",
      "execution_count": 32,
      "metadata": {},
      "outputs": [
        {
          "name": "stdout",
          "output_type": "stream",
          "text": [
            "{'apt', 'ask', 'spirit', 'let', 'questioned', 'duty', 'lighted', 'u', 'interest', 'hope', 'soul', 'constitutional', 'merit', 'well', 'authority', 'construction', 'truth', 'must', 'public', 'effort', 'people', 'country', 'commonwealth', 'co', 'heart', 'keep', 'national', 'inland', 'detail', 'without', 'obligation', 'life', 'price', 'view', 'whoever', 'military', 'action', 'one', 'man', 'shield', 'helping', 'compensate', 'ocean', 'born', 'purpose', 'tribe', 'tempest', 'decisive', 'reform', 'matter', 'portion', 'terminated', 'face', 'law', 'marched', 'society', 'exhausting', 'reward', 'adverted', 'since', 'disregarded', 'inauguration', 'principle', 'stranger', 'disability', 'become', 'profit', 'le', 'government', 'president', 'across', 'whose', 'history'}\n"
          ]
        }
      ],
      "source": [
        "print(doc_2_unique)"
      ]
    },
    {
      "cell_type": "code",
      "execution_count": 34,
      "metadata": {},
      "outputs": [],
      "source": [
        "for i in range(len(docs)):\n",
        "    docs[i] = ' '.join(docs[i])"
      ]
    },
    {
      "cell_type": "code",
      "execution_count": 35,
      "metadata": {},
      "outputs": [
        {
          "data": {
            "text/plain": [
              "['british administer woman interstate war tyranny moral proposed commitment problem american use disbursement day revenue war u god family room u kind waste war lit opposed available normalcy yet industry perfect america world self transaction record republic efficient constantly lose clearly sufficiently people pursued upon mountain full undisturbed concurrence public appear mountain national good enforce magistrate prodigal world depart sun perpetuate country must conflict subject tolerance stamp first responsibility happiness ha man greatness avoid revenue resource refuse victory today unworthy always misery endure great way feeling apply almost oppose oath ha whose best great good public public none wisdom early good forth staunchest especially every ninth move strong life',\n",
              " 'profit hope history government matter construction tempest interest exhausting portion ask ocean duty tribe across soul adverted commonwealth u military reform must country national detail terminated price since co le government heart disregarded face president lighted inland society decisive public whose obligation authority keep stranger life marched compensate spirit action man view without become shield inauguration helping truth effort disability whoever apt principle merit one life authority people across questioned purpose reward constitutional law let well born']"
            ]
          },
          "execution_count": 35,
          "metadata": {},
          "output_type": "execute_result"
        }
      ],
      "source": [
        "docs"
      ]
    },
    {
      "cell_type": "code",
      "execution_count": 39,
      "metadata": {},
      "outputs": [],
      "source": [
        "tfidf_matrix,vectorizer = calculate_tfidf(docs)"
      ]
    },
    {
      "cell_type": "code",
      "execution_count": 40,
      "metadata": {},
      "outputs": [],
      "source": [
        "df = to_dataframe(docs,tfidf_matrix,vectorizer)"
      ]
    },
    {
      "cell_type": "code",
      "execution_count": 41,
      "metadata": {},
      "outputs": [],
      "source": [
        "tfidf = compute_tf_idf(docs)\n",
        "normalized_tfidf = normalize_tfidf_scores(tfidf)\n"
      ]
    },
    {
      "cell_type": "markdown",
      "metadata": {},
      "source": [
        "## 5. Bonus"
      ]
    },
    {
      "cell_type": "code",
      "execution_count": 54,
      "metadata": {},
      "outputs": [
        {
          "name": "stdout",
          "output_type": "stream",
          "text": [
            "TF-IDF for document 1:\n",
            "(british)  Scratch : 0.08, built-in : 0.09\n",
            "(administer)  Scratch : 0.08, built-in : 0.09\n",
            "(woman)  Scratch : 0.08, built-in : 0.09\n",
            "(interstate)  Scratch : 0.08, built-in : 0.09\n",
            "(war)  Scratch : 0.25, built-in : 0.27\n",
            "(tyranny)  Scratch : 0.08, built-in : 0.09\n",
            "(moral)  Scratch : 0.08, built-in : 0.09\n",
            "(proposed)  Scratch : 0.08, built-in : 0.09\n",
            "(commitment)  Scratch : 0.08, built-in : 0.09\n",
            "(problem)  Scratch : 0.08, built-in : 0.09\n",
            "(american)  Scratch : 0.08, built-in : 0.09\n",
            "(use)  Scratch : 0.08, built-in : 0.09\n",
            "(disbursement)  Scratch : 0.08, built-in : 0.09\n",
            "(day)  Scratch : 0.08, built-in : 0.09\n",
            "(revenue)  Scratch : 0.17, built-in : 0.18\n",
            "(god)  Scratch : 0.08, built-in : 0.09\n",
            "(family)  Scratch : 0.08, built-in : 0.09\n",
            "(room)  Scratch : 0.08, built-in : 0.09\n",
            "(kind)  Scratch : 0.08, built-in : 0.09\n",
            "(waste)  Scratch : 0.08, built-in : 0.09\n",
            "(lit)  Scratch : 0.08, built-in : 0.09\n",
            "(opposed)  Scratch : 0.08, built-in : 0.09\n",
            "(available)  Scratch : 0.08, built-in : 0.09\n",
            "(normalcy)  Scratch : 0.08, built-in : 0.09\n",
            "(yet)  Scratch : 0.08, built-in : 0.09\n",
            "(industry)  Scratch : 0.08, built-in : 0.09\n",
            "(perfect)  Scratch : 0.08, built-in : 0.09\n",
            "(america)  Scratch : 0.08, built-in : 0.09\n",
            "(world)  Scratch : 0.17, built-in : 0.18\n",
            "(self)  Scratch : 0.08, built-in : 0.09\n",
            "(transaction)  Scratch : 0.08, built-in : 0.09\n",
            "(record)  Scratch : 0.08, built-in : 0.09\n",
            "(republic)  Scratch : 0.08, built-in : 0.09\n",
            "(efficient)  Scratch : 0.08, built-in : 0.09\n",
            "(constantly)  Scratch : 0.08, built-in : 0.09\n",
            "(lose)  Scratch : 0.08, built-in : 0.09\n",
            "(clearly)  Scratch : 0.08, built-in : 0.09\n",
            "(sufficiently)  Scratch : 0.08, built-in : 0.09\n",
            "(people)  Scratch : 0.08, built-in : 0.06\n",
            "(pursued)  Scratch : 0.08, built-in : 0.09\n",
            "(upon)  Scratch : 0.08, built-in : 0.09\n",
            "(mountain)  Scratch : 0.17, built-in : 0.18\n",
            "(full)  Scratch : 0.08, built-in : 0.09\n",
            "(undisturbed)  Scratch : 0.08, built-in : 0.09\n",
            "(concurrence)  Scratch : 0.08, built-in : 0.09\n",
            "(public)  Scratch : 0.25, built-in : 0.19\n",
            "(appear)  Scratch : 0.08, built-in : 0.09\n",
            "(national)  Scratch : 0.08, built-in : 0.06\n",
            "(good)  Scratch : 0.25, built-in : 0.27\n",
            "(enforce)  Scratch : 0.08, built-in : 0.09\n",
            "(magistrate)  Scratch : 0.08, built-in : 0.09\n",
            "(prodigal)  Scratch : 0.08, built-in : 0.09\n",
            "(depart)  Scratch : 0.08, built-in : 0.09\n",
            "(sun)  Scratch : 0.08, built-in : 0.09\n",
            "(perpetuate)  Scratch : 0.08, built-in : 0.09\n",
            "(country)  Scratch : 0.08, built-in : 0.06\n",
            "(must)  Scratch : 0.08, built-in : 0.06\n",
            "(conflict)  Scratch : 0.08, built-in : 0.09\n",
            "(subject)  Scratch : 0.08, built-in : 0.09\n",
            "(tolerance)  Scratch : 0.08, built-in : 0.09\n",
            "(stamp)  Scratch : 0.08, built-in : 0.09\n",
            "(first)  Scratch : 0.08, built-in : 0.09\n",
            "(responsibility)  Scratch : 0.08, built-in : 0.09\n",
            "(happiness)  Scratch : 0.08, built-in : 0.09\n",
            "(ha)  Scratch : 0.17, built-in : 0.18\n",
            "(man)  Scratch : 0.08, built-in : 0.06\n",
            "(greatness)  Scratch : 0.08, built-in : 0.09\n",
            "(avoid)  Scratch : 0.08, built-in : 0.09\n",
            "(resource)  Scratch : 0.08, built-in : 0.09\n",
            "(refuse)  Scratch : 0.08, built-in : 0.09\n",
            "(victory)  Scratch : 0.08, built-in : 0.09\n",
            "(today)  Scratch : 0.08, built-in : 0.09\n",
            "(unworthy)  Scratch : 0.08, built-in : 0.09\n",
            "(always)  Scratch : 0.08, built-in : 0.09\n",
            "(misery)  Scratch : 0.08, built-in : 0.09\n",
            "(endure)  Scratch : 0.08, built-in : 0.09\n",
            "(great)  Scratch : 0.17, built-in : 0.18\n",
            "(way)  Scratch : 0.08, built-in : 0.09\n",
            "(feeling)  Scratch : 0.08, built-in : 0.09\n",
            "(apply)  Scratch : 0.08, built-in : 0.09\n",
            "(almost)  Scratch : 0.08, built-in : 0.09\n",
            "(oppose)  Scratch : 0.08, built-in : 0.09\n",
            "(oath)  Scratch : 0.08, built-in : 0.09\n",
            "(whose)  Scratch : 0.08, built-in : 0.06\n",
            "(best)  Scratch : 0.08, built-in : 0.09\n",
            "(none)  Scratch : 0.08, built-in : 0.09\n",
            "(wisdom)  Scratch : 0.08, built-in : 0.09\n",
            "(early)  Scratch : 0.08, built-in : 0.09\n",
            "(forth)  Scratch : 0.08, built-in : 0.09\n",
            "(staunchest)  Scratch : 0.08, built-in : 0.09\n",
            "(especially)  Scratch : 0.08, built-in : 0.09\n",
            "(every)  Scratch : 0.08, built-in : 0.09\n",
            "(ninth)  Scratch : 0.08, built-in : 0.09\n",
            "(move)  Scratch : 0.08, built-in : 0.09\n",
            "(strong)  Scratch : 0.08, built-in : 0.09\n",
            "(life)  Scratch : 0.08, built-in : 0.06\n",
            "TF-IDF for document 2:\n",
            "(profit)  Scratch : 0.11, built-in : 0.11\n",
            "(hope)  Scratch : 0.11, built-in : 0.11\n",
            "(history)  Scratch : 0.11, built-in : 0.11\n",
            "(government)  Scratch : 0.22, built-in : 0.23\n",
            "(matter)  Scratch : 0.11, built-in : 0.11\n",
            "(construction)  Scratch : 0.11, built-in : 0.11\n",
            "(tempest)  Scratch : 0.11, built-in : 0.11\n",
            "(interest)  Scratch : 0.11, built-in : 0.11\n",
            "(exhausting)  Scratch : 0.11, built-in : 0.11\n",
            "(portion)  Scratch : 0.11, built-in : 0.11\n",
            "(ask)  Scratch : 0.11, built-in : 0.11\n",
            "(ocean)  Scratch : 0.11, built-in : 0.11\n",
            "(duty)  Scratch : 0.11, built-in : 0.11\n",
            "(tribe)  Scratch : 0.11, built-in : 0.11\n",
            "(across)  Scratch : 0.22, built-in : 0.23\n",
            "(soul)  Scratch : 0.11, built-in : 0.11\n",
            "(adverted)  Scratch : 0.11, built-in : 0.11\n",
            "(commonwealth)  Scratch : 0.11, built-in : 0.11\n",
            "(military)  Scratch : 0.11, built-in : 0.11\n",
            "(reform)  Scratch : 0.11, built-in : 0.11\n",
            "(must)  Scratch : 0.11, built-in : 0.08\n",
            "(country)  Scratch : 0.11, built-in : 0.08\n",
            "(national)  Scratch : 0.11, built-in : 0.08\n",
            "(detail)  Scratch : 0.11, built-in : 0.11\n",
            "(terminated)  Scratch : 0.11, built-in : 0.11\n",
            "(price)  Scratch : 0.11, built-in : 0.11\n",
            "(since)  Scratch : 0.11, built-in : 0.11\n",
            "(co)  Scratch : 0.11, built-in : 0.11\n",
            "(le)  Scratch : 0.11, built-in : 0.11\n",
            "(heart)  Scratch : 0.11, built-in : 0.11\n",
            "(disregarded)  Scratch : 0.11, built-in : 0.11\n",
            "(face)  Scratch : 0.11, built-in : 0.11\n",
            "(president)  Scratch : 0.11, built-in : 0.11\n",
            "(lighted)  Scratch : 0.11, built-in : 0.11\n",
            "(inland)  Scratch : 0.11, built-in : 0.11\n",
            "(society)  Scratch : 0.11, built-in : 0.11\n",
            "(decisive)  Scratch : 0.11, built-in : 0.11\n",
            "(public)  Scratch : 0.11, built-in : 0.08\n",
            "(whose)  Scratch : 0.11, built-in : 0.08\n",
            "(obligation)  Scratch : 0.11, built-in : 0.11\n",
            "(authority)  Scratch : 0.22, built-in : 0.23\n",
            "(keep)  Scratch : 0.11, built-in : 0.11\n",
            "(stranger)  Scratch : 0.11, built-in : 0.11\n",
            "(life)  Scratch : 0.22, built-in : 0.16\n",
            "(marched)  Scratch : 0.11, built-in : 0.11\n",
            "(compensate)  Scratch : 0.11, built-in : 0.11\n",
            "(spirit)  Scratch : 0.11, built-in : 0.11\n",
            "(action)  Scratch : 0.11, built-in : 0.11\n",
            "(man)  Scratch : 0.11, built-in : 0.08\n",
            "(view)  Scratch : 0.11, built-in : 0.11\n",
            "(without)  Scratch : 0.11, built-in : 0.11\n",
            "(become)  Scratch : 0.11, built-in : 0.11\n",
            "(shield)  Scratch : 0.11, built-in : 0.11\n",
            "(inauguration)  Scratch : 0.11, built-in : 0.11\n",
            "(helping)  Scratch : 0.11, built-in : 0.11\n",
            "(truth)  Scratch : 0.11, built-in : 0.11\n",
            "(effort)  Scratch : 0.11, built-in : 0.11\n",
            "(disability)  Scratch : 0.11, built-in : 0.11\n",
            "(whoever)  Scratch : 0.11, built-in : 0.11\n",
            "(apt)  Scratch : 0.11, built-in : 0.11\n",
            "(principle)  Scratch : 0.11, built-in : 0.11\n",
            "(merit)  Scratch : 0.11, built-in : 0.11\n",
            "(one)  Scratch : 0.11, built-in : 0.11\n",
            "(people)  Scratch : 0.11, built-in : 0.08\n",
            "(questioned)  Scratch : 0.11, built-in : 0.11\n",
            "(purpose)  Scratch : 0.11, built-in : 0.11\n",
            "(reward)  Scratch : 0.11, built-in : 0.11\n",
            "(constitutional)  Scratch : 0.11, built-in : 0.11\n",
            "(law)  Scratch : 0.11, built-in : 0.11\n",
            "(let)  Scratch : 0.11, built-in : 0.11\n",
            "(well)  Scratch : 0.11, built-in : 0.11\n",
            "(born)  Scratch : 0.11, built-in : 0.11\n"
          ]
        }
      ],
      "source": [
        "for idx, doc_tfidf in enumerate(normalized_tfidf):\n",
        "    print(f\"TF-IDF for document {idx + 1}:\")\n",
        "    for key, value in doc_tfidf.items():\n",
        "        if(len(key) > 1):\n",
        "            print(f\"({key})  Scratch : {round(value, 2)}, built-in : {round(df[f'Doc {idx+1}'][key],2)}\")"
      ]
    },
    {
      "cell_type": "code",
      "execution_count": 43,
      "metadata": {},
      "outputs": [],
      "source": [
        "import matplotlib.pyplot as plt"
      ]
    },
    {
      "cell_type": "code",
      "execution_count": 44,
      "metadata": {},
      "outputs": [],
      "source": [
        "def plot_tfidf_values(tfidf_matrix, feature_names):\n",
        "    # Calculate the mean TF-IDF value for each feature (word)\n",
        "    tfidf_means = np.mean(tfidf_matrix, axis=0).tolist()[0]\n",
        "\n",
        "    # Pair feature names with their mean TF-IDF values\n",
        "    features_with_tfidf = list(zip(feature_names, tfidf_means))\n",
        "\n",
        "    # Sort features by their TF-IDF values\n",
        "    features_with_tfidf.sort(key=lambda x: x[1], reverse=True)\n",
        "\n",
        "    # Extract sorted feature names and TF-IDF values\n",
        "    sorted_features = [feature[0] for feature in features_with_tfidf]\n",
        "    sorted_tfidf_values = [feature[1] for feature in features_with_tfidf]\n",
        "\n",
        "    # Plotting\n",
        "    plt.figure(figsize=(10, 6))\n",
        "    plt.barh(sorted_features[:10], sorted_tfidf_values[:10], color='skyblue')\n",
        "    plt.xlabel('TF-IDF Value')\n",
        "    plt.title('Top 10 Words by TF-IDF Value')\n",
        "    plt.gca().invert_yaxis()\n",
        "    plt.show()"
      ]
    },
    {
      "cell_type": "code",
      "execution_count": 45,
      "metadata": {},
      "outputs": [
        {
          "data": {
            "image/png": "[encoded data removed]",
            "text/plain": [
              "<Figure size 1000x600 with 1 Axes>"
            ]
          },
          "metadata": {},
          "output_type": "display_data"
        }
      ],
      "source": [
        "plot_tfidf_values(tfidf_matrix, vectorizer.get_feature_names_out())"
      ]
    },
    {
      "cell_type": "markdown",
      "metadata": {},
      "source": []
    }
  ],
  "metadata": {
    "colab": {
      "provenance": []
    },
    "kernelspec": {
      "display_name": "Python 3",
      "name": "python3"
    },
    "language_info": {
      "codemirror_mode": {
        "name": "ipython",
        "version": 3
      },
      "file_extension": ".py",
      "mimetype": "text/x-python",
      "name": "python",
      "nbconvert_exporter": "python",
      "pygments_lexer": "ipython3",
      "version": "3.11.4"
    }
  },
  "nbformat": 4,
  "nbformat_minor": 0
}
