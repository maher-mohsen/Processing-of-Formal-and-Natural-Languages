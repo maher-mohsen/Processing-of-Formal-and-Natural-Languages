{
  "cells": [
    {
      "cell_type": "markdown",
      "metadata": {},
      "source": [
        "# Assi #2 NLP&FLP [TF-IDF]\n",
        "## Silvana Yacoub 20201091\n",
        "## Maher Mohsen 20200415\n",
        "## S1\n",
        "\n",
        "# Assi Points\n",
        "\n",
        "\n",
        "\n",
        " * 1\\. Data\n",
        "    * 1.1\\. function to generate a document if it gets any phrase Generate more than one document in different fields.\n",
        "\n",
        " * 2\\. Processing on data  \n",
        "    * 2.1\\. Cleaning data from each symbol or character doesn’t contain to the data.\n",
        "    * 2.2\\. Normalization: make all the data to lower case\n",
        "    * 2.3\\. Tokenization: split the data to words\n",
        "    * 2.4\\. Lemmatization or Stemming: return each word to origin.\n",
        "    * 2.5\\. Stop words: remove stop words from the data.\n",
        "\n",
        " * 3\\. Unique words \n",
        "    * 3.1\\. Get the unique words from the data.\n",
        "\n",
        " * 4\\. TFIDF \n",
        "    * 4.1\\. Get TF for each word for all documents.\n",
        "    * 4.2\\. Get IDF for each word.\n",
        "    * 4.3\\. Multiply TF * IDF\n",
        "   * 4.4\\. Get Normalized TFIDF\n",
        "\n",
        " * 5\\. Bonus \n",
        "   * 5.1\\. apply TFIDF from Scratch code and built in (sklearn) code with the same result"
      ]
    },
    {
      "cell_type": "markdown",
      "metadata": {},
      "source": [
        "## 1. Data\n"
      ]
    },
    {
      "cell_type": "markdown",
      "metadata": {},
      "source": [
        "### 1.1 function to generate a document if it gets any phrase Generate more than one document in different fields."
      ]
    },
    {
      "cell_type": "code",
      "execution_count": 2,
      "metadata": {},
      "outputs": [],
      "source": [
        "import random\n",
        "import nltk\n",
        "from nltk.corpus import gutenberg\n",
        "from nltk.corpus import genesis\n",
        "from nltk.corpus import inaugural\n",
        "from nltk.corpus import webtext\n",
        "from nltk.tokenize import word_tokenize\n",
        "from nltk.stem import WordNetLemmatizer\n",
        "from nltk.corpus import stopwords\n",
        "from sklearn.feature_extraction.text import TfidfVectorizer\n",
        "import string\n",
        "import re\n",
        "from nltk.corpus import reuters\n",
        "import pandas as pd\n",
        "import numpy as np\n",
        "from openai import OpenAI\n"
      ]
    },
    {
      "cell_type": "code",
      "execution_count": 21,
      "metadata": {},
      "outputs": [
        {
          "name": "stderr",
          "output_type": "stream",
          "text": [
            "[nltk_data] Downloading package stopwords to\n",
            "[nltk_data]     C:\\Users\\mezwm\\AppData\\Roaming\\nltk_data...\n",
            "[nltk_data]   Package stopwords is already up-to-date!\n",
            "[nltk_data] Downloading package wordnet to\n",
            "[nltk_data]     C:\\Users\\mezwm\\AppData\\Roaming\\nltk_data...\n",
            "[nltk_data]   Package wordnet is already up-to-date!\n",
            "[nltk_data] Downloading package punkt to\n",
            "[nltk_data]     C:\\Users\\mezwm\\AppData\\Roaming\\nltk_data...\n",
            "[nltk_data]   Package punkt is already up-to-date!\n",
            "[nltk_data] Downloading package genesis to\n",
            "[nltk_data]     C:\\Users\\mezwm\\AppData\\Roaming\\nltk_data...\n",
            "[nltk_data]   Package genesis is already up-to-date!\n",
            "[nltk_data] Downloading package inaugural to\n",
            "[nltk_data]     C:\\Users\\mezwm\\AppData\\Roaming\\nltk_data...\n",
            "[nltk_data]   Package inaugural is already up-to-date!\n",
            "[nltk_data] Downloading package webtext to\n",
            "[nltk_data]     C:\\Users\\mezwm\\AppData\\Roaming\\nltk_data...\n",
            "[nltk_data]   Unzipping corpora\\webtext.zip.\n",
            "[nltk_data] Downloading package treebank to\n",
            "[nltk_data]     C:\\Users\\mezwm\\AppData\\Roaming\\nltk_data...\n",
            "[nltk_data]   Unzipping corpora\\treebank.zip.\n",
            "[nltk_data] Downloading package words to\n",
            "[nltk_data]     C:\\Users\\mezwm\\AppData\\Roaming\\nltk_data...\n",
            "[nltk_data]   Package words is already up-to-date!\n"
          ]
        }
      ],
      "source": [
        "import nltk\n",
        "import random\n",
        "\n",
        "# Download NLTK resources\n",
        "nltk.download('stopwords')\n",
        "nltk.download('wordnet')\n",
        "nltk.download('punkt')\n",
        "nltk.download('genesis')\n",
        "nltk.download('inaugural')\n",
        "nltk.download('webtext')\n",
        "nltk.download('treebank')\n",
        "nltk.download('words')\n",
        "\n"
      ]
    },
    {
      "cell_type": "code",
      "execution_count": 23,
      "metadata": {},
      "outputs": [],
      "source": [
        "from transformers import pipeline\n"
      ]
    },
    {
      "cell_type": "code",
      "execution_count": 25,
      "metadata": {},
      "outputs": [
        {
          "data": {
            "application/vnd.jupyter.widget-view+json": {
              "model_id": "b4e8c363492943529662af1d0190584b",
              "version_major": 2,
              "version_minor": 0
            },
            "text/plain": [
              "config.json:   0%|          | 0.00/665 [00:00<?, ?B/s]"
            ]
          },
          "metadata": {},
          "output_type": "display_data"
        },
        {
          "data": {
            "application/vnd.jupyter.widget-view+json": {
              "model_id": "ea4b275acd79404cbcac25fbf2c86750",
              "version_major": 2,
              "version_minor": 0
            },
            "text/plain": [
              "model.safetensors:   0%|          | 0.00/548M [00:00<?, ?B/s]"
            ]
          },
          "metadata": {},
          "output_type": "display_data"
        },
        {
          "data": {
            "application/vnd.jupyter.widget-view+json": {
              "model_id": "0895364e2fdd42b0aba6ce711a1cbc2d",
              "version_major": 2,
              "version_minor": 0
            },
            "text/plain": [
              "generation_config.json:   0%|          | 0.00/124 [00:00<?, ?B/s]"
            ]
          },
          "metadata": {},
          "output_type": "display_data"
        },
        {
          "data": {
            "application/vnd.jupyter.widget-view+json": {
              "model_id": "a0443233c4d54926aaac65ecc561c7df",
              "version_major": 2,
              "version_minor": 0
            },
            "text/plain": [
              "tokenizer_config.json:   0%|          | 0.00/26.0 [00:00<?, ?B/s]"
            ]
          },
          "metadata": {},
          "output_type": "display_data"
        },
        {
          "data": {
            "application/vnd.jupyter.widget-view+json": {
              "model_id": "55a77fb8284247e68601b29128d3b2e6",
              "version_major": 2,
              "version_minor": 0
            },
            "text/plain": [
              "vocab.json:   0%|          | 0.00/1.04M [00:00<?, ?B/s]"
            ]
          },
          "metadata": {},
          "output_type": "display_data"
        },
        {
          "data": {
            "application/vnd.jupyter.widget-view+json": {
              "model_id": "2ba6dcbd19b34c099c89751154526dc0",
              "version_major": 2,
              "version_minor": 0
            },
            "text/plain": [
              "merges.txt:   0%|          | 0.00/456k [00:00<?, ?B/s]"
            ]
          },
          "metadata": {},
          "output_type": "display_data"
        },
        {
          "data": {
            "application/vnd.jupyter.widget-view+json": {
              "model_id": "614f8ff63b104d0c84921926ac6c50b8",
              "version_major": 2,
              "version_minor": 0
            },
            "text/plain": [
              "tokenizer.json:   0%|          | 0.00/1.36M [00:00<?, ?B/s]"
            ]
          },
          "metadata": {},
          "output_type": "display_data"
        }
      ],
      "source": [
        "generator = pipeline('text-generation', model='gpt2')\n",
        "\n",
        "def generate_documents_gpt(topics):\n",
        "    generated_docs = []\n",
        "    for topic in topics:\n",
        "        generated_docs.append(generator(topic, max_length=100)[0]['generated_text'])\n",
        "    return generated_docs"
      ]
    },
    {
      "cell_type": "markdown",
      "metadata": {},
      "source": [
        "## 2. Processing on data"
      ]
    },
    {
      "cell_type": "markdown",
      "metadata": {},
      "source": [
        "### 2.1 Cleaning data from each symbol or character doesn’t contain to the data."
      ]
    },
    {
      "cell_type": "code",
      "execution_count": 33,
      "metadata": {},
      "outputs": [],
      "source": [
        "def clean_data(text):\n",
        "    text = re.sub(r'[^a-zA-Z]', ' ', text)\n",
        "    return text"
      ]
    },
    {
      "cell_type": "markdown",
      "metadata": {},
      "source": [
        "### 2.2 Normalization: make all the data to lower case"
      ]
    },
    {
      "cell_type": "code",
      "execution_count": 34,
      "metadata": {},
      "outputs": [],
      "source": [
        "def normalize_text(text):\n",
        "    normalized_text = text.lower()\n",
        "    return normalized_text"
      ]
    },
    {
      "cell_type": "markdown",
      "metadata": {},
      "source": [
        "### 2.3 Tokenization: split the data to words"
      ]
    },
    {
      "cell_type": "code",
      "execution_count": 35,
      "metadata": {},
      "outputs": [],
      "source": [
        "def tokenize_text(text):\n",
        "    tokens = word_tokenize(text)\n",
        "    return tokens"
      ]
    },
    {
      "cell_type": "markdown",
      "metadata": {},
      "source": [
        "### 2.4 Lemmatization or Stemming: return each word to origin."
      ]
    },
    {
      "cell_type": "code",
      "execution_count": 36,
      "metadata": {},
      "outputs": [],
      "source": [
        "def lemmatize_text(tokens):\n",
        "    lemmatizer = WordNetLemmatizer()\n",
        "    lemmatized_tokens = [lemmatizer.lemmatize(token) for token in tokens]\n",
        "    return lemmatized_tokens"
      ]
    },
    {
      "cell_type": "markdown",
      "metadata": {},
      "source": [
        "### 2.5 Stop words: remove stop words from the data."
      ]
    },
    {
      "cell_type": "code",
      "execution_count": 37,
      "metadata": {},
      "outputs": [],
      "source": [
        "def remove_stopwords(tokens):\n",
        "    stop_words = set(stopwords.words('english'))\n",
        "    filtered_tokens = [token for token in tokens if token not in stop_words]\n",
        "    return filtered_tokens"
      ]
    },
    {
      "cell_type": "markdown",
      "metadata": {},
      "source": [
        "## 3. Unique words"
      ]
    },
    {
      "cell_type": "markdown",
      "metadata": {},
      "source": [
        "### 3.1 Get the unique words from the data."
      ]
    },
    {
      "cell_type": "code",
      "execution_count": 38,
      "metadata": {},
      "outputs": [],
      "source": [
        "def get_unique_words(tokens):\n",
        "    unique_words = set(tokens)\n",
        "    return unique_words"
      ]
    },
    {
      "cell_type": "markdown",
      "metadata": {},
      "source": [
        "## 4. TFIDF"
      ]
    },
    {
      "cell_type": "markdown",
      "metadata": {},
      "source": [
        "### 4.1 TFIDF from scratch"
      ]
    },
    {
      "cell_type": "code",
      "execution_count": 39,
      "metadata": {},
      "outputs": [],
      "source": [
        "import math\n",
        "from collections import Counter"
      ]
    },
    {
      "cell_type": "markdown",
      "metadata": {},
      "source": [
        "$$TF(t,d) = \\frac{\\text{number of times t appears in d}}{\\text{total numbert of terms in d}}$$"
      ]
    },
    {
      "cell_type": "code",
      "execution_count": 109,
      "metadata": {},
      "outputs": [],
      "source": [
        "\n",
        "def compute_term_frequencies(documents):\n",
        "    \n",
        "\n",
        "    term_frequencies = []\n",
        "    for i in range(len(documents)):\n",
        "        \n",
        "        word_counts = Counter(documents[i])\n",
        "        total_words = len(documents[i])\n",
        "        term_frequency = {word: count / total_words for word, count in word_counts.items()}\n",
        "        term_frequencies.append(term_frequency)\n",
        "    return term_frequencies\n",
        "\n"
      ]
    },
    {
      "cell_type": "markdown",
      "metadata": {},
      "source": [
        "$$idf(t) = \\log{\\frac{1+n}{1+df(t)}}+1$$"
      ]
    },
    {
      "cell_type": "code",
      "execution_count": 41,
      "metadata": {},
      "outputs": [],
      "source": [
        "def compute_inverse_document_frequencies(documents):\n",
        "    total_docs = len(documents)\n",
        "    inverse_document_frequencies = {}\n",
        "    for doc in documents:\n",
        "        for word in set(doc):\n",
        "            inverse_document_frequencies[word] = inverse_document_frequencies.get(word, 0)\n",
        "\n",
        "    inverse_document_frequencies = {word: math.log(((total_docs + 1) / (count + 1)) + 1) for word, count in inverse_document_frequencies.items()}\n",
        "    return inverse_document_frequencies\n",
        "\n"
      ]
    },
    {
      "cell_type": "markdown",
      "metadata": {},
      "source": [
        "$$TF-IDF = TF * IDF$$"
      ]
    },
    {
      "cell_type": "code",
      "execution_count": 111,
      "metadata": {},
      "outputs": [],
      "source": [
        "def compute_tf_idf(documents):\n",
        "\n",
        "    term_frequencies = compute_term_frequencies(documents)\n",
        "    inverse_document_frequencies = compute_inverse_document_frequencies(documents)\n",
        "    tf_idf_scores = []\n",
        "    for doc_tf in term_frequencies:\n",
        "        doc_tf_idf = {word: tf_val * inverse_document_frequencies[word] for word, tf_val in doc_tf.items()}\n",
        "        tf_idf_scores.append(doc_tf_idf)\n",
        "\n",
        "    return tf_idf_scores\n",
        "\n"
      ]
    },
    {
      "cell_type": "markdown",
      "metadata": {},
      "source": [
        "$$NormalizedTF-IDF = \\frac{X}{||\\mathbf{X}||}_2$$"
      ]
    },
    {
      "cell_type": "code",
      "execution_count": 43,
      "metadata": {},
      "outputs": [],
      "source": [
        "def normalize_tfidf_scores(tfidf_scores):\n",
        "    normalized_tfidf_scores = []\n",
        "    for doc in tfidf_scores:\n",
        "        norm = np.linalg.norm(list(doc.values()))\n",
        "        normalized_doc = {word: tfidf_val / norm for word, tfidf_val in doc.items()}\n",
        "        normalized_tfidf_scores.append(normalized_doc)\n",
        "\n",
        "    return normalized_tfidf_scores"
      ]
    },
    {
      "cell_type": "code",
      "execution_count": 44,
      "metadata": {},
      "outputs": [],
      "source": [
        "def to_dataframe(docs,tfidf_matrix,vectorizer):\n",
        "    return pd.DataFrame(\n",
        "        tfidf_matrix.T.toarray(),\n",
        "        index=vectorizer.get_feature_names_out(),\n",
        "        columns= [f\"Doc {i+1}\" for i in range(len(docs))],\n",
        "    )"
      ]
    },
    {
      "cell_type": "markdown",
      "metadata": {},
      "source": [
        "### 4.2 TFIDF with Sklearn"
      ]
    },
    {
      "cell_type": "code",
      "execution_count": 115,
      "metadata": {},
      "outputs": [],
      "source": [
        "def calculate_tfidf(documents):\n",
        "    flattened_documents = [' '.join(doc) for doc in documents]\n",
        "\n",
        "    vectorizer = TfidfVectorizer()\n",
        "\n",
        "    tfidf_matrix = vectorizer.fit_transform(flattened_documents)\n",
        "\n",
        "    return tfidf_matrix, vectorizer"
      ]
    },
    {
      "cell_type": "markdown",
      "metadata": {},
      "source": [
        "# Workspace"
      ]
    },
    {
      "cell_type": "code",
      "execution_count": 120,
      "metadata": {},
      "outputs": [],
      "source": [
        "prompt = [\"\",\"\"]\n",
        "prompt[0] = input(\"Please Enter Topic 1\")\n",
        "prompt[1] = input(\"Please Enter Topic 2\")"
      ]
    },
    {
      "cell_type": "code",
      "execution_count": 121,
      "metadata": {},
      "outputs": [
        {
          "name": "stderr",
          "output_type": "stream",
          "text": [
            "Setting `pad_token_id` to `eos_token_id`:50256 for open-end generation.\n",
            "Setting `pad_token_id` to `eos_token_id`:50256 for open-end generation.\n"
          ]
        }
      ],
      "source": [
        "docs = generate_documents_gpt(prompt)"
      ]
    },
    {
      "cell_type": "code",
      "execution_count": 122,
      "metadata": {},
      "outputs": [
        {
          "data": {
            "text/plain": [
              "['A star search through some of the sites and to date the site has been \"surveys, which we have gathered from those who have had to go through that process of coming up with the data. It\\'s a challenge as well.\"\\n\\nThe data was compiled from social network searches and news related to the events of Sept. 11, 2001, that claimed the lives of 9/11 hijackers David and Asif, four other Americans.\\n\\nThe data, collected in 2006 by the',\n",
              " 'dfs search for them. While this only looks at the most recent, the latest search data from Twitter gives a pretty clear look at when the search engines were first started. With an average search-time of 18 seconds, this one has a pretty significant trend going back decades.\\n\\nThis is quite important because when Google first started using S3 in 2006, it was the first time anyone had to search for keywords such as \"pizza,\" \"chocolate\" or \"mild\" (']"
            ]
          },
          "execution_count": 122,
          "metadata": {},
          "output_type": "execute_result"
        }
      ],
      "source": [
        "docs"
      ]
    },
    {
      "cell_type": "code",
      "execution_count": 123,
      "metadata": {},
      "outputs": [],
      "source": [
        "for i in range(len(docs)):\n",
        "    docs[i] = remove_stopwords(lemmatize_text(tokenize_text(normalize_text(clean_data(docs[i])))))"
      ]
    },
    {
      "cell_type": "code",
      "execution_count": 124,
      "metadata": {},
      "outputs": [],
      "source": [
        "doc_1_unique = get_unique_words(docs[0])\n",
        "doc_2_unique = get_unique_words(docs[1])"
      ]
    },
    {
      "cell_type": "code",
      "execution_count": 125,
      "metadata": {},
      "outputs": [
        {
          "name": "stdout",
          "output_type": "stream",
          "text": [
            "{'wa', 'gathered', 'go', 'date', 'hijacker', 'compiled', 'challenge', 'event', 'sept', 'data', 'ha', 'process', 'star', 'survey', 'related', 'well', 'site', 'asif', 'life', 'claimed', 'four', 'coming', 'network', 'search', 'news', 'david', 'collected', 'american', 'social'}\n"
          ]
        }
      ],
      "source": [
        "print(doc_1_unique)"
      ]
    },
    {
      "cell_type": "code",
      "execution_count": 126,
      "metadata": {},
      "outputs": [
        {
          "name": "stdout",
          "output_type": "stream",
          "text": [
            "{'recent', 'first', 'back', 'wa', 'average', 'significant', 'look', 'twitter', 'give', 'pretty', 'important', 'data', 'ha', 'quite', 'google', 'anyone', 'going', 'engine', 'chocolate', 'trend', 'mild', 'dfs', 'pizza', 'clear', 'search', 'keywords', 'second', 'decade', 'one', 'latest', 'started', 'using', 'time'}\n"
          ]
        }
      ],
      "source": [
        "print(doc_2_unique)"
      ]
    },
    {
      "cell_type": "code",
      "execution_count": 127,
      "metadata": {},
      "outputs": [],
      "source": [
        "for i in range(len(docs)):\n",
        "    docs[i] = ' '.join(docs[i])"
      ]
    },
    {
      "cell_type": "code",
      "execution_count": 128,
      "metadata": {},
      "outputs": [
        {
          "data": {
            "text/plain": [
              "['star search site date site ha survey gathered go process coming data challenge well data wa compiled social network search news related event sept claimed life hijacker david asif four american data collected',\n",
              " 'dfs search look recent latest search data twitter give pretty clear look search engine first started average search time second one ha pretty significant trend going back decade quite important google first started using wa first time anyone search keywords pizza chocolate mild']"
            ]
          },
          "execution_count": 128,
          "metadata": {},
          "output_type": "execute_result"
        }
      ],
      "source": [
        "docs"
      ]
    },
    {
      "cell_type": "code",
      "execution_count": 129,
      "metadata": {},
      "outputs": [],
      "source": [
        "for i in range(len(docs)):\n",
        "    docs[i] = nltk.word_tokenize(docs[i].lower())"
      ]
    },
    {
      "cell_type": "code",
      "execution_count": 130,
      "metadata": {},
      "outputs": [],
      "source": [
        "tfidf_matrix,vectorizer = calculate_tfidf(docs)"
      ]
    },
    {
      "cell_type": "code",
      "execution_count": 131,
      "metadata": {},
      "outputs": [],
      "source": [
        "df = to_dataframe(docs,tfidf_matrix,vectorizer)"
      ]
    },
    {
      "cell_type": "code",
      "execution_count": 132,
      "metadata": {},
      "outputs": [],
      "source": [
        "tfidf = compute_tf_idf(docs)\n",
        "normalized_tfidf = normalize_tfidf_scores(tfidf)\n"
      ]
    },
    {
      "cell_type": "markdown",
      "metadata": {},
      "source": [
        "## 5. Bonus"
      ]
    },
    {
      "cell_type": "code",
      "execution_count": 133,
      "metadata": {},
      "outputs": [
        {
          "name": "stdout",
          "output_type": "stream",
          "text": [
            "TF-IDF for document 1:\n",
            "(star)  Scratch : 0.15, built-in : 0.17\n",
            "(search)  Scratch : 0.3, built-in : 0.24\n",
            "(site)  Scratch : 0.3, built-in : 0.34\n",
            "(date)  Scratch : 0.15, built-in : 0.17\n",
            "(ha)  Scratch : 0.15, built-in : 0.12\n",
            "(survey)  Scratch : 0.15, built-in : 0.17\n",
            "(gathered)  Scratch : 0.15, built-in : 0.17\n",
            "(go)  Scratch : 0.15, built-in : 0.17\n",
            "(process)  Scratch : 0.15, built-in : 0.17\n",
            "(coming)  Scratch : 0.15, built-in : 0.17\n",
            "(data)  Scratch : 0.46, built-in : 0.36\n",
            "(challenge)  Scratch : 0.15, built-in : 0.17\n",
            "(well)  Scratch : 0.15, built-in : 0.17\n",
            "(wa)  Scratch : 0.15, built-in : 0.12\n",
            "(compiled)  Scratch : 0.15, built-in : 0.17\n",
            "(social)  Scratch : 0.15, built-in : 0.17\n",
            "(network)  Scratch : 0.15, built-in : 0.17\n",
            "(news)  Scratch : 0.15, built-in : 0.17\n",
            "(related)  Scratch : 0.15, built-in : 0.17\n",
            "(event)  Scratch : 0.15, built-in : 0.17\n",
            "(sept)  Scratch : 0.15, built-in : 0.17\n",
            "(claimed)  Scratch : 0.15, built-in : 0.17\n",
            "(life)  Scratch : 0.15, built-in : 0.17\n",
            "(hijacker)  Scratch : 0.15, built-in : 0.17\n",
            "(david)  Scratch : 0.15, built-in : 0.17\n",
            "(asif)  Scratch : 0.15, built-in : 0.17\n",
            "(four)  Scratch : 0.15, built-in : 0.17\n",
            "(american)  Scratch : 0.15, built-in : 0.17\n",
            "(collected)  Scratch : 0.15, built-in : 0.17\n",
            "TF-IDF for document 2:\n",
            "(dfs)  Scratch : 0.11, built-in : 0.13\n",
            "(search)  Scratch : 0.57, built-in : 0.45\n",
            "(look)  Scratch : 0.23, built-in : 0.25\n",
            "(recent)  Scratch : 0.11, built-in : 0.13\n",
            "(latest)  Scratch : 0.11, built-in : 0.13\n",
            "(data)  Scratch : 0.11, built-in : 0.09\n",
            "(twitter)  Scratch : 0.11, built-in : 0.13\n",
            "(give)  Scratch : 0.11, built-in : 0.13\n",
            "(pretty)  Scratch : 0.23, built-in : 0.25\n",
            "(clear)  Scratch : 0.11, built-in : 0.13\n",
            "(engine)  Scratch : 0.11, built-in : 0.13\n",
            "(first)  Scratch : 0.34, built-in : 0.38\n",
            "(started)  Scratch : 0.23, built-in : 0.25\n",
            "(average)  Scratch : 0.11, built-in : 0.13\n",
            "(time)  Scratch : 0.23, built-in : 0.25\n",
            "(second)  Scratch : 0.11, built-in : 0.13\n",
            "(one)  Scratch : 0.11, built-in : 0.13\n",
            "(ha)  Scratch : 0.11, built-in : 0.09\n",
            "(significant)  Scratch : 0.11, built-in : 0.13\n",
            "(trend)  Scratch : 0.11, built-in : 0.13\n",
            "(going)  Scratch : 0.11, built-in : 0.13\n",
            "(back)  Scratch : 0.11, built-in : 0.13\n",
            "(decade)  Scratch : 0.11, built-in : 0.13\n",
            "(quite)  Scratch : 0.11, built-in : 0.13\n",
            "(important)  Scratch : 0.11, built-in : 0.13\n",
            "(google)  Scratch : 0.11, built-in : 0.13\n",
            "(using)  Scratch : 0.11, built-in : 0.13\n",
            "(wa)  Scratch : 0.11, built-in : 0.09\n",
            "(anyone)  Scratch : 0.11, built-in : 0.13\n",
            "(keywords)  Scratch : 0.11, built-in : 0.13\n",
            "(pizza)  Scratch : 0.11, built-in : 0.13\n",
            "(chocolate)  Scratch : 0.11, built-in : 0.13\n",
            "(mild)  Scratch : 0.11, built-in : 0.13\n"
          ]
        }
      ],
      "source": [
        "for idx, doc_tfidf in enumerate(normalized_tfidf):\n",
        "    print(f\"TF-IDF for document {idx + 1}:\")\n",
        "    for key, value in doc_tfidf.items():\n",
        "        if(len(key) > 1):\n",
        "            print(f\"({key})  Scratch : {round(value, 2)}, built-in : {round(df[f'Doc {idx+1}'][key],2)}\")"
      ]
    },
    {
      "cell_type": "code",
      "execution_count": 134,
      "metadata": {},
      "outputs": [],
      "source": [
        "import matplotlib.pyplot as plt"
      ]
    },
    {
      "cell_type": "code",
      "execution_count": 135,
      "metadata": {},
      "outputs": [],
      "source": [
        "def plot_tfidf_values(tfidf_matrix, feature_names):\n",
        "    # Calculate the mean TF-IDF value for each feature (word)\n",
        "    tfidf_means = np.mean(tfidf_matrix, axis=0).tolist()[0]\n",
        "\n",
        "    # Pair feature names with their mean TF-IDF values\n",
        "    features_with_tfidf = list(zip(feature_names, tfidf_means))\n",
        "\n",
        "    # Sort features by their TF-IDF values\n",
        "    features_with_tfidf.sort(key=lambda x: x[1], reverse=True)\n",
        "\n",
        "    # Extract sorted feature names and TF-IDF values\n",
        "    sorted_features = [feature[0] for feature in features_with_tfidf]\n",
        "    sorted_tfidf_values = [feature[1] for feature in features_with_tfidf]\n",
        "\n",
        "    # Plotting\n",
        "    plt.figure(figsize=(10, 6))\n",
        "    plt.barh(sorted_features[:10], sorted_tfidf_values[:10], color='skyblue')\n",
        "    plt.xlabel('TF-IDF Value')\n",
        "    plt.title('Top 10 Words by TF-IDF Value')\n",
        "    plt.gca().invert_yaxis()\n",
        "    plt.show()"
      ]
    },
    {
      "cell_type": "code",
      "execution_count": 136,
      "metadata": {},
      "outputs": [
        {
          "data": {
            "image/png": "[encoded data removed]",
            "text/plain": [
              "<Figure size 1000x600 with 1 Axes>"
            ]
          },
          "metadata": {},
          "output_type": "display_data"
        }
      ],
      "source": [
        "plot_tfidf_values(tfidf_matrix, vectorizer.get_feature_names_out())"
      ]
    },
    {
      "cell_type": "markdown",
      "metadata": {},
      "source": []
    }
  ],
  "metadata": {
    "colab": {
      "provenance": []
    },
    "kernelspec": {
      "display_name": "Python 3",
      "name": "python3"
    },
    "language_info": {
      "codemirror_mode": {
        "name": "ipython",
        "version": 3
      },
      "file_extension": ".py",
      "mimetype": "text/x-python",
      "name": "python",
      "nbconvert_exporter": "python",
      "pygments_lexer": "ipython3",
      "version": "3.11.4"
    }
  },
  "nbformat": 4,
  "nbformat_minor": 0
}
